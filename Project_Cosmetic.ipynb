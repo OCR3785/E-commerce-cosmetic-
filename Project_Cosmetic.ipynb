{
  "nbformat": 4,
  "nbformat_minor": 0,
  "metadata": {
    "colab": {
      "provenance": []
    },
    "kernelspec": {
      "name": "python3",
      "display_name": "Python 3"
    },
    "language_info": {
      "name": "python"
    }
  },
  "cells": [
    {
      "cell_type": "markdown",
      "source": [
        "**About this project:**\n",
        "\n",
        "The dataset (E-commerce cosmetic dataset) was chosen because we are both business experts in buying cosmetics online and are familiar with all its features. The dataset also meets the project's requirements with over 10K rows and 15 columns.\n",
        "We had an opening session in which we chose the dataset and set our main business question. Following this, we had a few more working sessions to progress on the project.\n",
        "\n",
        "This is how we splited the tasks between us:\n",
        "  \n",
        "*   What is our data base about. How can it help to gain profit, what are the problems, what did we test, reading litreture review and what we found / Or\n",
        "*   Import the data\n",
        "*   Overall look (shape, info, describe)\n",
        "*   Clean the data:\n",
        "      *Show columns with missing data, rating column type change / Gil  \n",
        "*   Statitics:\n",
        "*    2-3 descriptive graphs (histograms etc.) /Or\n",
        "*    Finding outliers /Gil\n",
        "*    Investigating the tendency between 2 features (2-3 graphs that display columns tendency with number of ratrings) / Gil\n",
        "*    Exploring the correlation between price and number of ratings /Or\n",
        "\n",
        "**Here is a link to our database:**\n",
        "https://www.kaggle.com/datasets/mkechinov/ecommerce-events-history-in-cosmetics-shop\n",
        "\n",
        "\n",
        "\n",
        "\n",
        "\n",
        "---\n",
        "\n",
        "\n",
        "\n"
      ],
      "metadata": {
        "id": "S6fd-eqmZrrq"
      }
    },
    {
      "cell_type": "markdown",
      "source": [
        "This database deals with e-commerce products from different websites for Indian customers. Each row represents a product.\n",
        "**Our main business question** is how the price of a product influences the number of ratings for that particular product. This is important for website managers and product suppliers to know because a lower number of ratings overall can reduce the attractiveness and perceived validation of the product by new buyers, affecting their decision to purchase the product (Baymard Institute 2024). Hence,  we predict that lower-priced products will have a higher number of ratings and vice versa. Yet, other factors are in play as well and produt category is also important for rating (Lindgren 2021).\n",
        "\n",
        "**Procedure**\n",
        "To investigate how pricing influences the number of ratings, we first familiarized ourselves with the main variables, types, number of observations for each variable, sample size and outliers. We also consider the tendency of the product brand and the category of the cosmetic solution (e.g., face, body, eyes, etc.) on the number of ratings. We then cleaned the data by handling missing values. We applied descriptive statistics to all variables of interest, in tables and graphs. Finally, we calculated the correlation between the variables of interest.\n",
        "\n",
        "Our **main findings** show that most bought products are low-priced and have a small number of ratings (less than 100 voters). In addition, most products that received a relatively high number of ratings are face and body products associated with the Maybelline, Lakmi and Swiss Beauty, REVLON and Clinique brands.\n",
        "\n",
        "Finally, we found a weak and statistically significant negative correlation between price and the number of ratings, which aligns with the literature review. However, the small effect size suggests that other variables have a stronger effect on the number of ratings. Further investigation should apply multiple regression to investigate the relative effect size of other variables that influence the number of ratings, such as brand and category."
      ],
      "metadata": {
        "id": "nwJ7nxRqYlD4"
      }
    },
    {
      "cell_type": "markdown",
      "source": [
        "**import the data**\n",
        "\n",
        "\n",
        "\n"
      ],
      "metadata": {
        "id": "h4i0pyc9aQPY"
      }
    },
    {
      "cell_type": "code",
      "execution_count": null,
      "metadata": {
        "collapsed": true,
        "id": "EYwY0eS0ZjCH",
        "colab": {
          "base_uri": "https://localhost:8080/",
          "height": 293
        },
        "outputId": "87947237-3135-459e-c41a-5521229bd529"
      },
      "outputs": [
        {
          "output_type": "execute_result",
          "data": {
            "text/plain": [
              "                                        product_name   website country  \\\n",
              "0  Carlton London Incense Eau da parfum, Premium ...  Flipkart   India   \n",
              "1  CHARLENE SPRAY MIST PERFUME 30 - INTIMATE (PAC...  Flipkart   India   \n",
              "2  CHARLENE SPRAY MIST PERFUME 30 - INTIMATE (PAC...  Flipkart   India   \n",
              "3  DENVER Black Code Perfume - 60 | Eau de Parfum...  Flipkart   India   \n",
              "4  Denver Hamilton Perfume - 100 | Long Lasting P...  Flipkart   India   \n",
              "\n",
              "  category subcategory                                         title-href  \\\n",
              "0     body     perfume  https://www.amazon.in/Carlton-London-Limited-I...   \n",
              "1     body     perfume  https://www.amazon.in/CHARLENE-SPRAY-MIST-PERF...   \n",
              "2     body     perfume  https://www.amazon.in/CHARLENE-SPRAY-MIST-PERF...   \n",
              "3     body     perfume  https://www.amazon.in/DENVER-Black-Code-Perfum...   \n",
              "4     body     perfume  https://www.amazon.in/Denver-Perfume-Hamilton-...   \n",
              "\n",
              "   price           brand ingredients     form type  \\\n",
              "0  599.0  Carlton London         NaN  aerosol  NaN   \n",
              "1  149.0        Charlene         NaN  aerosol  NaN   \n",
              "2  298.0        Charlene         NaN  aerosol  NaN   \n",
              "3  245.0          Denver         NaN  aerosol  NaN   \n",
              "4  422.0          Denver         NaN  aerosol  NaN   \n",
              "\n",
              "                                               color size rating noofratings  \n",
              "0  Top Note: Orange Blossom, Blackberry | Heart N...  100    3.9          19  \n",
              "1                                   Unit count type:   30    4.4       4,031  \n",
              "2                                   Unit count type:   30    4.4       4,072  \n",
              "3                                 Long-Lasting Scent   60    4.2          61  \n",
              "4                                 Long-Lasting Scent  100    4.3         342  "
            ],
            "text/html": [
              "\n",
              "  <div id=\"df-f5e2d756-76d2-4108-8e90-3dcb6918d50c\" class=\"colab-df-container\">\n",
              "    <div>\n",
              "<style scoped>\n",
              "    .dataframe tbody tr th:only-of-type {\n",
              "        vertical-align: middle;\n",
              "    }\n",
              "\n",
              "    .dataframe tbody tr th {\n",
              "        vertical-align: top;\n",
              "    }\n",
              "\n",
              "    .dataframe thead th {\n",
              "        text-align: right;\n",
              "    }\n",
              "</style>\n",
              "<table border=\"1\" class=\"dataframe\">\n",
              "  <thead>\n",
              "    <tr style=\"text-align: right;\">\n",
              "      <th></th>\n",
              "      <th>product_name</th>\n",
              "      <th>website</th>\n",
              "      <th>country</th>\n",
              "      <th>category</th>\n",
              "      <th>subcategory</th>\n",
              "      <th>title-href</th>\n",
              "      <th>price</th>\n",
              "      <th>brand</th>\n",
              "      <th>ingredients</th>\n",
              "      <th>form</th>\n",
              "      <th>type</th>\n",
              "      <th>color</th>\n",
              "      <th>size</th>\n",
              "      <th>rating</th>\n",
              "      <th>noofratings</th>\n",
              "    </tr>\n",
              "  </thead>\n",
              "  <tbody>\n",
              "    <tr>\n",
              "      <th>0</th>\n",
              "      <td>Carlton London Incense Eau da parfum, Premium ...</td>\n",
              "      <td>Flipkart</td>\n",
              "      <td>India</td>\n",
              "      <td>body</td>\n",
              "      <td>perfume</td>\n",
              "      <td>https://www.amazon.in/Carlton-London-Limited-I...</td>\n",
              "      <td>599.0</td>\n",
              "      <td>Carlton London</td>\n",
              "      <td>NaN</td>\n",
              "      <td>aerosol</td>\n",
              "      <td>NaN</td>\n",
              "      <td>Top Note: Orange Blossom, Blackberry | Heart N...</td>\n",
              "      <td>100</td>\n",
              "      <td>3.9</td>\n",
              "      <td>19</td>\n",
              "    </tr>\n",
              "    <tr>\n",
              "      <th>1</th>\n",
              "      <td>CHARLENE SPRAY MIST PERFUME 30 - INTIMATE (PAC...</td>\n",
              "      <td>Flipkart</td>\n",
              "      <td>India</td>\n",
              "      <td>body</td>\n",
              "      <td>perfume</td>\n",
              "      <td>https://www.amazon.in/CHARLENE-SPRAY-MIST-PERF...</td>\n",
              "      <td>149.0</td>\n",
              "      <td>Charlene</td>\n",
              "      <td>NaN</td>\n",
              "      <td>aerosol</td>\n",
              "      <td>NaN</td>\n",
              "      <td>Unit count type:</td>\n",
              "      <td>30</td>\n",
              "      <td>4.4</td>\n",
              "      <td>4,031</td>\n",
              "    </tr>\n",
              "    <tr>\n",
              "      <th>2</th>\n",
              "      <td>CHARLENE SPRAY MIST PERFUME 30 - INTIMATE (PAC...</td>\n",
              "      <td>Flipkart</td>\n",
              "      <td>India</td>\n",
              "      <td>body</td>\n",
              "      <td>perfume</td>\n",
              "      <td>https://www.amazon.in/CHARLENE-SPRAY-MIST-PERF...</td>\n",
              "      <td>298.0</td>\n",
              "      <td>Charlene</td>\n",
              "      <td>NaN</td>\n",
              "      <td>aerosol</td>\n",
              "      <td>NaN</td>\n",
              "      <td>Unit count type:</td>\n",
              "      <td>30</td>\n",
              "      <td>4.4</td>\n",
              "      <td>4,072</td>\n",
              "    </tr>\n",
              "    <tr>\n",
              "      <th>3</th>\n",
              "      <td>DENVER Black Code Perfume - 60 | Eau de Parfum...</td>\n",
              "      <td>Flipkart</td>\n",
              "      <td>India</td>\n",
              "      <td>body</td>\n",
              "      <td>perfume</td>\n",
              "      <td>https://www.amazon.in/DENVER-Black-Code-Perfum...</td>\n",
              "      <td>245.0</td>\n",
              "      <td>Denver</td>\n",
              "      <td>NaN</td>\n",
              "      <td>aerosol</td>\n",
              "      <td>NaN</td>\n",
              "      <td>Long-Lasting Scent</td>\n",
              "      <td>60</td>\n",
              "      <td>4.2</td>\n",
              "      <td>61</td>\n",
              "    </tr>\n",
              "    <tr>\n",
              "      <th>4</th>\n",
              "      <td>Denver Hamilton Perfume - 100 | Long Lasting P...</td>\n",
              "      <td>Flipkart</td>\n",
              "      <td>India</td>\n",
              "      <td>body</td>\n",
              "      <td>perfume</td>\n",
              "      <td>https://www.amazon.in/Denver-Perfume-Hamilton-...</td>\n",
              "      <td>422.0</td>\n",
              "      <td>Denver</td>\n",
              "      <td>NaN</td>\n",
              "      <td>aerosol</td>\n",
              "      <td>NaN</td>\n",
              "      <td>Long-Lasting Scent</td>\n",
              "      <td>100</td>\n",
              "      <td>4.3</td>\n",
              "      <td>342</td>\n",
              "    </tr>\n",
              "  </tbody>\n",
              "</table>\n",
              "</div>\n",
              "    <div class=\"colab-df-buttons\">\n",
              "\n",
              "  <div class=\"colab-df-container\">\n",
              "    <button class=\"colab-df-convert\" onclick=\"convertToInteractive('df-f5e2d756-76d2-4108-8e90-3dcb6918d50c')\"\n",
              "            title=\"Convert this dataframe to an interactive table.\"\n",
              "            style=\"display:none;\">\n",
              "\n",
              "  <svg xmlns=\"http://www.w3.org/2000/svg\" height=\"24px\" viewBox=\"0 -960 960 960\">\n",
              "    <path d=\"M120-120v-720h720v720H120Zm60-500h600v-160H180v160Zm220 220h160v-160H400v160Zm0 220h160v-160H400v160ZM180-400h160v-160H180v160Zm440 0h160v-160H620v160ZM180-180h160v-160H180v160Zm440 0h160v-160H620v160Z\"/>\n",
              "  </svg>\n",
              "    </button>\n",
              "\n",
              "  <style>\n",
              "    .colab-df-container {\n",
              "      display:flex;\n",
              "      gap: 12px;\n",
              "    }\n",
              "\n",
              "    .colab-df-convert {\n",
              "      background-color: #E8F0FE;\n",
              "      border: none;\n",
              "      border-radius: 50%;\n",
              "      cursor: pointer;\n",
              "      display: none;\n",
              "      fill: #1967D2;\n",
              "      height: 32px;\n",
              "      padding: 0 0 0 0;\n",
              "      width: 32px;\n",
              "    }\n",
              "\n",
              "    .colab-df-convert:hover {\n",
              "      background-color: #E2EBFA;\n",
              "      box-shadow: 0px 1px 2px rgba(60, 64, 67, 0.3), 0px 1px 3px 1px rgba(60, 64, 67, 0.15);\n",
              "      fill: #174EA6;\n",
              "    }\n",
              "\n",
              "    .colab-df-buttons div {\n",
              "      margin-bottom: 4px;\n",
              "    }\n",
              "\n",
              "    [theme=dark] .colab-df-convert {\n",
              "      background-color: #3B4455;\n",
              "      fill: #D2E3FC;\n",
              "    }\n",
              "\n",
              "    [theme=dark] .colab-df-convert:hover {\n",
              "      background-color: #434B5C;\n",
              "      box-shadow: 0px 1px 3px 1px rgba(0, 0, 0, 0.15);\n",
              "      filter: drop-shadow(0px 1px 2px rgba(0, 0, 0, 0.3));\n",
              "      fill: #FFFFFF;\n",
              "    }\n",
              "  </style>\n",
              "\n",
              "    <script>\n",
              "      const buttonEl =\n",
              "        document.querySelector('#df-f5e2d756-76d2-4108-8e90-3dcb6918d50c button.colab-df-convert');\n",
              "      buttonEl.style.display =\n",
              "        google.colab.kernel.accessAllowed ? 'block' : 'none';\n",
              "\n",
              "      async function convertToInteractive(key) {\n",
              "        const element = document.querySelector('#df-f5e2d756-76d2-4108-8e90-3dcb6918d50c');\n",
              "        const dataTable =\n",
              "          await google.colab.kernel.invokeFunction('convertToInteractive',\n",
              "                                                    [key], {});\n",
              "        if (!dataTable) return;\n",
              "\n",
              "        const docLinkHtml = 'Like what you see? Visit the ' +\n",
              "          '<a target=\"_blank\" href=https://colab.research.google.com/notebooks/data_table.ipynb>data table notebook</a>'\n",
              "          + ' to learn more about interactive tables.';\n",
              "        element.innerHTML = '';\n",
              "        dataTable['output_type'] = 'display_data';\n",
              "        await google.colab.output.renderOutput(dataTable, element);\n",
              "        const docLink = document.createElement('div');\n",
              "        docLink.innerHTML = docLinkHtml;\n",
              "        element.appendChild(docLink);\n",
              "      }\n",
              "    </script>\n",
              "  </div>\n",
              "\n",
              "\n",
              "<div id=\"df-f3d23ca8-663a-480e-9b30-d71619c58c04\">\n",
              "  <button class=\"colab-df-quickchart\" onclick=\"quickchart('df-f3d23ca8-663a-480e-9b30-d71619c58c04')\"\n",
              "            title=\"Suggest charts\"\n",
              "            style=\"display:none;\">\n",
              "\n",
              "<svg xmlns=\"http://www.w3.org/2000/svg\" height=\"24px\"viewBox=\"0 0 24 24\"\n",
              "     width=\"24px\">\n",
              "    <g>\n",
              "        <path d=\"M19 3H5c-1.1 0-2 .9-2 2v14c0 1.1.9 2 2 2h14c1.1 0 2-.9 2-2V5c0-1.1-.9-2-2-2zM9 17H7v-7h2v7zm4 0h-2V7h2v10zm4 0h-2v-4h2v4z\"/>\n",
              "    </g>\n",
              "</svg>\n",
              "  </button>\n",
              "\n",
              "<style>\n",
              "  .colab-df-quickchart {\n",
              "      --bg-color: #E8F0FE;\n",
              "      --fill-color: #1967D2;\n",
              "      --hover-bg-color: #E2EBFA;\n",
              "      --hover-fill-color: #174EA6;\n",
              "      --disabled-fill-color: #AAA;\n",
              "      --disabled-bg-color: #DDD;\n",
              "  }\n",
              "\n",
              "  [theme=dark] .colab-df-quickchart {\n",
              "      --bg-color: #3B4455;\n",
              "      --fill-color: #D2E3FC;\n",
              "      --hover-bg-color: #434B5C;\n",
              "      --hover-fill-color: #FFFFFF;\n",
              "      --disabled-bg-color: #3B4455;\n",
              "      --disabled-fill-color: #666;\n",
              "  }\n",
              "\n",
              "  .colab-df-quickchart {\n",
              "    background-color: var(--bg-color);\n",
              "    border: none;\n",
              "    border-radius: 50%;\n",
              "    cursor: pointer;\n",
              "    display: none;\n",
              "    fill: var(--fill-color);\n",
              "    height: 32px;\n",
              "    padding: 0;\n",
              "    width: 32px;\n",
              "  }\n",
              "\n",
              "  .colab-df-quickchart:hover {\n",
              "    background-color: var(--hover-bg-color);\n",
              "    box-shadow: 0 1px 2px rgba(60, 64, 67, 0.3), 0 1px 3px 1px rgba(60, 64, 67, 0.15);\n",
              "    fill: var(--button-hover-fill-color);\n",
              "  }\n",
              "\n",
              "  .colab-df-quickchart-complete:disabled,\n",
              "  .colab-df-quickchart-complete:disabled:hover {\n",
              "    background-color: var(--disabled-bg-color);\n",
              "    fill: var(--disabled-fill-color);\n",
              "    box-shadow: none;\n",
              "  }\n",
              "\n",
              "  .colab-df-spinner {\n",
              "    border: 2px solid var(--fill-color);\n",
              "    border-color: transparent;\n",
              "    border-bottom-color: var(--fill-color);\n",
              "    animation:\n",
              "      spin 1s steps(1) infinite;\n",
              "  }\n",
              "\n",
              "  @keyframes spin {\n",
              "    0% {\n",
              "      border-color: transparent;\n",
              "      border-bottom-color: var(--fill-color);\n",
              "      border-left-color: var(--fill-color);\n",
              "    }\n",
              "    20% {\n",
              "      border-color: transparent;\n",
              "      border-left-color: var(--fill-color);\n",
              "      border-top-color: var(--fill-color);\n",
              "    }\n",
              "    30% {\n",
              "      border-color: transparent;\n",
              "      border-left-color: var(--fill-color);\n",
              "      border-top-color: var(--fill-color);\n",
              "      border-right-color: var(--fill-color);\n",
              "    }\n",
              "    40% {\n",
              "      border-color: transparent;\n",
              "      border-right-color: var(--fill-color);\n",
              "      border-top-color: var(--fill-color);\n",
              "    }\n",
              "    60% {\n",
              "      border-color: transparent;\n",
              "      border-right-color: var(--fill-color);\n",
              "    }\n",
              "    80% {\n",
              "      border-color: transparent;\n",
              "      border-right-color: var(--fill-color);\n",
              "      border-bottom-color: var(--fill-color);\n",
              "    }\n",
              "    90% {\n",
              "      border-color: transparent;\n",
              "      border-bottom-color: var(--fill-color);\n",
              "    }\n",
              "  }\n",
              "</style>\n",
              "\n",
              "  <script>\n",
              "    async function quickchart(key) {\n",
              "      const quickchartButtonEl =\n",
              "        document.querySelector('#' + key + ' button');\n",
              "      quickchartButtonEl.disabled = true;  // To prevent multiple clicks.\n",
              "      quickchartButtonEl.classList.add('colab-df-spinner');\n",
              "      try {\n",
              "        const charts = await google.colab.kernel.invokeFunction(\n",
              "            'suggestCharts', [key], {});\n",
              "      } catch (error) {\n",
              "        console.error('Error during call to suggestCharts:', error);\n",
              "      }\n",
              "      quickchartButtonEl.classList.remove('colab-df-spinner');\n",
              "      quickchartButtonEl.classList.add('colab-df-quickchart-complete');\n",
              "    }\n",
              "    (() => {\n",
              "      let quickchartButtonEl =\n",
              "        document.querySelector('#df-f3d23ca8-663a-480e-9b30-d71619c58c04 button');\n",
              "      quickchartButtonEl.style.display =\n",
              "        google.colab.kernel.accessAllowed ? 'block' : 'none';\n",
              "    })();\n",
              "  </script>\n",
              "</div>\n",
              "\n",
              "    </div>\n",
              "  </div>\n"
            ],
            "application/vnd.google.colaboratory.intrinsic+json": {
              "type": "dataframe",
              "variable_name": "df",
              "summary": "{\n  \"name\": \"df\",\n  \"rows\": 12615,\n  \"fields\": [\n    {\n      \"column\": \"product_name\",\n      \"properties\": {\n        \"dtype\": \"string\",\n        \"num_unique_values\": 11341,\n        \"samples\": [\n          \"La French Oud Nuit Perfume for Men & Women - 100 | Long Lasting Oudh Fragrance | Premium Luxurious Scent | Blended with Spicy, Musky and Woody | Perfume Gift Set (Pack of 1)\",\n          \"Body Lotion Bergamote Fra\",\n          \"Facial Spray with Aloe, Sage and Orange Blossom\"\n        ],\n        \"semantic_type\": \"\",\n        \"description\": \"\"\n      }\n    },\n    {\n      \"column\": \"website\",\n      \"properties\": {\n        \"dtype\": \"category\",\n        \"num_unique_values\": 5,\n        \"samples\": [\n          \"ulta\",\n          \"sephora\",\n          \"Sephora\"\n        ],\n        \"semantic_type\": \"\",\n        \"description\": \"\"\n      }\n    },\n    {\n      \"column\": \"country\",\n      \"properties\": {\n        \"dtype\": \"category\",\n        \"num_unique_values\": 2,\n        \"samples\": [\n          \"USA\",\n          \"India\"\n        ],\n        \"semantic_type\": \"\",\n        \"description\": \"\"\n      }\n    },\n    {\n      \"column\": \"category\",\n      \"properties\": {\n        \"dtype\": \"category\",\n        \"num_unique_values\": 6,\n        \"samples\": [\n          \"body\",\n          \"eyes\"\n        ],\n        \"semantic_type\": \"\",\n        \"description\": \"\"\n      }\n    },\n    {\n      \"column\": \"subcategory\",\n      \"properties\": {\n        \"dtype\": \"category\",\n        \"num_unique_values\": 36,\n        \"samples\": [\n          \"face oil\",\n          \"foundation\"\n        ],\n        \"semantic_type\": \"\",\n        \"description\": \"\"\n      }\n    },\n    {\n      \"column\": \"title-href\",\n      \"properties\": {\n        \"dtype\": \"string\",\n        \"num_unique_values\": 12244,\n        \"samples\": [\n          \"https://www.flipkart.com/garnier-bright-complete-vitamin-c-booster-face-serum-30/p/itm993c8a7843c91?pid=MSCG2J55WNXZMM3Z&lid=LSTMSCG2J55WNXZMM3ZFOZD0G&marketplace=FLIPKART&q=serum+face&store=g9b%2Fema%2F5la&srno=s_8_289&otracker=search&otracker1=search&iid=453f89ab-ef1f-40a3-8768-f8a162b53d43.MSCG2J55WNXZMM3Z.SEARCH&ssid=3bg1vq7o4g0000001677676281582&qH=32acf39226151586\",\n          \"https://www.flipkart.com/dr-rashel-vitamin-c-face-serum-brightening-anti-aging/p/itm40a5ec00d0296?pid=ATAGY8XWFGRNDBHP&lid=LSTATAGY8XWFGRNDBHPIKCFR8&marketplace=FLIPKART&q=serum+face&store=g9b%2Fema%2F5la&srno=s_10_377&otracker=search&otracker1=search&iid=c4e7d0da-946f-440e-a1b8-515b236066ca.ATAGY8XWFGRNDBHP.SEARCH&ssid=2vkkqyy11c0000001677676637062&qH=32acf39226151586\"\n        ],\n        \"semantic_type\": \"\",\n        \"description\": \"\"\n      }\n    },\n    {\n      \"column\": \"price\",\n      \"properties\": {\n        \"dtype\": \"number\",\n        \"std\": 3158.6903066458262,\n        \"min\": 1.7,\n        \"max\": 94099.0,\n        \"num_unique_values\": 1975,\n        \"samples\": [\n          12093.08,\n          5719.7\n        ],\n        \"semantic_type\": \"\",\n        \"description\": \"\"\n      }\n    },\n    {\n      \"column\": \"brand\",\n      \"properties\": {\n        \"dtype\": \"category\",\n        \"num_unique_values\": 1753,\n        \"samples\": [\n          \"7 Days\",\n          \"Sebamed\"\n        ],\n        \"semantic_type\": \"\",\n        \"description\": \"\"\n      }\n    },\n    {\n      \"column\": \"ingredients\",\n      \"properties\": {\n        \"dtype\": \"category\",\n        \"num_unique_values\": 4839,\n        \"samples\": [\n          \"Water / Aqua / Eau, Dimethicone, Butylene Glycol, Cetyl Ricinoleate, Glyceryl Distearate, Trisiloxane, Glyceryl Stearate Se, Cholesterol, Simmondsia Chinensis (Jojoba) Seed , Steareth-10, Cetyl Esters, Cetyl Alcohol, Silica, Vitis Vinifera (Grape) Fruit Extract, Camellia Sinensis (Green Tea) Leaf Extract, Pyrus Malus (Apple) Fruit Extract, Morus Bombycis (Mulberry) Root Extract, Scutellaria Baicalensis Root Extract, Saccharomyces Lysate Extract, Tocopheryl Acetate, Sodium Hyaluronate, Panthenol, Ceramide Ng, Xanthan Gum, Sucrose, Glycerin, Cyanocobalamin, Tin Oxide, Caprylyl Glycol, Magnesium Ascorbyl Phosphate, Hexylene Glycol, Polysorbate 80, Sodium Citrate, Sodium Sulfite, Sodium Metabisulfite, Acrylamide/Sodium Acryloyldimethyltaurate Copolymer, Linoleic Acid, Isohexadecane, Citric Acid, Fragrance (Parfum), EDTA, Disodium EDTA, Phenoxyethanol, Mica, Titanium Dioxide (CI 77891), Red 4 (CI 14700).\",\n          \"RicinusCommunis (Castor) Seed , Isopropyl Isostearate, Mica, Petrolatum,Ethylhexyl Hydroxystearate, Ozokerite, Candelilla Cera/Euphorbia Cerifera(Candelilla) Wax/Cire De Candelilla, Synthetic Fluorphlogopite, Paraffin,Squalane, Cetyl Alcohol, Cetyl Lactate, Copernicia Cerifera Cera/CoperniciaCerifera (Carnauba) Wax/Cire de Carnauba, Aroma/Flavor, Ascorbyl Palmitate,Tocopheryl Acetate, Butyrospermum Parkii (Shea) Butter, Cocos Nucifera(coconut)  and Aloe Barbadensis Leaf Extract, Persea Gratissima Avocado, Lauroyl Lysine, Propylparaben, Talc, Sodium Saccharin, Titanium Dioxide (CI 77891), Red 27 Lake (CI 45410), Red 7 Lake (CI15850), Yellow 5 Lake (CI 19140), Red 6 Lake (CI 15850), Iron Oxides Black(CI 77499), Iron Oxides Red (CI 77491), Blue 1 Lake (CI 42090), Yellow 6 Lake(CI15985), Carmine (CI 75470).\"\n        ],\n        \"semantic_type\": \"\",\n        \"description\": \"\"\n      }\n    },\n    {\n      \"column\": \"form\",\n      \"properties\": {\n        \"dtype\": \"category\",\n        \"num_unique_values\": 25,\n        \"samples\": [\n          \"capsule\",\n          \"dry\"\n        ],\n        \"semantic_type\": \"\",\n        \"description\": \"\"\n      }\n    },\n    {\n      \"column\": \"type\",\n      \"properties\": {\n        \"dtype\": \"category\",\n        \"num_unique_values\": 133,\n        \"samples\": [\n          \"curly,wavy,straight\",\n          \"dry,sensitive\"\n        ],\n        \"semantic_type\": \"\",\n        \"description\": \"\"\n      }\n    },\n    {\n      \"column\": \"color\",\n      \"properties\": {\n        \"dtype\": \"category\",\n        \"num_unique_values\": 3357,\n        \"samples\": [\n          \"Almond\",\n          \"A Bit Edgy\"\n        ],\n        \"semantic_type\": \"\",\n        \"description\": \"\"\n      }\n    },\n    {\n      \"column\": \"size\",\n      \"properties\": {\n        \"dtype\": \"category\",\n        \"num_unique_values\": 700,\n        \"samples\": [\n          \"12\",\n          \"330\"\n        ],\n        \"semantic_type\": \"\",\n        \"description\": \"\"\n      }\n    },\n    {\n      \"column\": \"rating\",\n      \"properties\": {\n        \"dtype\": \"category\",\n        \"num_unique_values\": 253,\n        \"samples\": [\n          \"3.62\",\n          \"4.7\"\n        ],\n        \"semantic_type\": \"\",\n        \"description\": \"\"\n      }\n    },\n    {\n      \"column\": \"noofratings\",\n      \"properties\": {\n        \"dtype\": \"category\",\n        \"num_unique_values\": 2096,\n        \"samples\": [\n          \"9\",\n          \"1,103\"\n        ],\n        \"semantic_type\": \"\",\n        \"description\": \"\"\n      }\n    }\n  ]\n}"
            }
          },
          "metadata": {},
          "execution_count": 19
        }
      ],
      "source": [
        "import pandas as pd\n",
        "import numpy as np\n",
        "import matplotlib.pyplot as plt\n",
        "cosmetic_dataset = pd.read_csv('E-commerce  cosmetic dataset.csv', encoding='latin-1')\n",
        "df = pd.DataFrame(cosmetic_dataset)\n",
        "df.head()"
      ]
    },
    {
      "cell_type": "markdown",
      "source": [
        "**overall look**\n",
        "\n"
      ],
      "metadata": {
        "id": "NhIUdPhLafiQ"
      }
    },
    {
      "cell_type": "code",
      "source": [
        "print(\"Shape of the data frame:\")\n",
        "print(df.info())\n",
        "print(\"________________\")\n",
        "print(\"number of unique products:\")\n",
        "print(len(df['product_name'].unique()))\n",
        "print(\"________________\")\n",
        "print(\"number of unique products:\")\n",
        "print(df.describe())\n",
        "print(\"________________\")\n",
        "print(df.dtypes)\n",
        "print(\"________________\")\n"
      ],
      "metadata": {
        "collapsed": true,
        "id": "fbQ_qcAFaf4C",
        "colab": {
          "base_uri": "https://localhost:8080/"
        },
        "outputId": "3cd7033f-05c9-4723-f56e-e9b237982ae9"
      },
      "execution_count": null,
      "outputs": [
        {
          "output_type": "stream",
          "name": "stdout",
          "text": [
            "Shape of the data frame:\n",
            "<class 'pandas.core.frame.DataFrame'>\n",
            "RangeIndex: 12615 entries, 0 to 12614\n",
            "Data columns (total 15 columns):\n",
            " #   Column        Non-Null Count  Dtype  \n",
            "---  ------        --------------  -----  \n",
            " 0   product_name  12615 non-null  object \n",
            " 1   website       12615 non-null  object \n",
            " 2   country       12615 non-null  object \n",
            " 3   category      12615 non-null  object \n",
            " 4   subcategory   12615 non-null  object \n",
            " 5   title-href    12615 non-null  object \n",
            " 6   price         12298 non-null  float64\n",
            " 7   brand         12615 non-null  object \n",
            " 8   ingredients   6600 non-null   object \n",
            " 9   form          12615 non-null  object \n",
            " 10  type          9934 non-null   object \n",
            " 11  color         10626 non-null  object \n",
            " 12  size          9449 non-null   object \n",
            " 13  rating        10548 non-null  object \n",
            " 14  noofratings   12156 non-null  object \n",
            "dtypes: float64(1), object(14)\n",
            "memory usage: 1.4+ MB\n",
            "None\n",
            "________________\n",
            "number of unique products:\n",
            "11341\n",
            "________________\n",
            "number of unique products:\n",
            "              price\n",
            "count  12298.000000\n",
            "mean    2281.180935\n",
            "std     3158.690307\n",
            "min        1.700000\n",
            "25%      499.000000\n",
            "50%     1307.200000\n",
            "75%     2859.500000\n",
            "max    94099.000000\n",
            "________________\n",
            "product_name     object\n",
            "website          object\n",
            "country          object\n",
            "category         object\n",
            "subcategory      object\n",
            "title-href       object\n",
            "price           float64\n",
            "brand            object\n",
            "ingredients      object\n",
            "form             object\n",
            "type             object\n",
            "color            object\n",
            "size             object\n",
            "rating           object\n",
            "noofratings      object\n",
            "dtype: object\n",
            "________________\n"
          ]
        }
      ]
    },
    {
      "cell_type": "markdown",
      "source": [
        "**Clean the data:**<br>\n",
        "1. show columns with missing data\n"
      ],
      "metadata": {
        "id": "b5VMWKWikFQO"
      }
    },
    {
      "cell_type": "code",
      "source": [
        "print(df.isnull().any())\n",
        "print(\"____________\")\n",
        "nan_count = df.isna().sum()\n",
        "print(nan_count)"
      ],
      "metadata": {
        "id": "sqMkZBZSm1kg",
        "collapsed": true,
        "colab": {
          "base_uri": "https://localhost:8080/"
        },
        "outputId": "fde05739-2dc7-4ae4-859a-2dc4a9f8cde8"
      },
      "execution_count": null,
      "outputs": [
        {
          "output_type": "stream",
          "name": "stdout",
          "text": [
            "product_name    False\n",
            "website         False\n",
            "country         False\n",
            "category        False\n",
            "subcategory     False\n",
            "title-href      False\n",
            "price            True\n",
            "brand           False\n",
            "ingredients      True\n",
            "form            False\n",
            "type             True\n",
            "color            True\n",
            "size             True\n",
            "rating           True\n",
            "noofratings      True\n",
            "dtype: bool\n",
            "____________\n",
            "product_name       0\n",
            "website            0\n",
            "country            0\n",
            "category           0\n",
            "subcategory        0\n",
            "title-href         0\n",
            "price            317\n",
            "brand              0\n",
            "ingredients     6015\n",
            "form               0\n",
            "type            2681\n",
            "color           1989\n",
            "size            3166\n",
            "rating          2067\n",
            "noofratings      459\n",
            "dtype: int64\n"
          ]
        }
      ]
    },
    {
      "cell_type": "markdown",
      "source": [
        "2. price and noofrating both have missing data.  Is there a correlation between price Nan and noofrating Nan?\n",
        "\n",
        "  answer below: No. there is no significant number of Nans instances in price that are also Nan in noofratings"
      ],
      "metadata": {
        "id": "XBhWkdofobq5"
      }
    },
    {
      "cell_type": "code",
      "source": [
        "df.isnull().groupby(['price','noofratings']).size()\n"
      ],
      "metadata": {
        "id": "7E6HNmWwohnR",
        "collapsed": true,
        "colab": {
          "base_uri": "https://localhost:8080/"
        },
        "outputId": "b67c253a-f2ff-4a4e-929b-0ef3f7306110"
      },
      "execution_count": null,
      "outputs": [
        {
          "output_type": "execute_result",
          "data": {
            "text/plain": [
              "price  noofratings\n",
              "False  False          11871\n",
              "       True             427\n",
              "True   False            285\n",
              "       True              32\n",
              "dtype: int64"
            ]
          },
          "metadata": {},
          "execution_count": 22
        }
      ]
    },
    {
      "cell_type": "markdown",
      "source": [
        "3. We decided to drop all price column NaN instances, since it is only about 3% from the data, and Nan price has no meaning in our business question."
      ],
      "metadata": {
        "id": "IDJui95nDTpL"
      }
    },
    {
      "cell_type": "code",
      "source": [
        "df = df.dropna(subset=\"price\")\n",
        "df.isna().sum()\n",
        "df.info()\n"
      ],
      "metadata": {
        "id": "KYSDIVPqpu5m",
        "collapsed": true,
        "colab": {
          "base_uri": "https://localhost:8080/"
        },
        "outputId": "898ba572-bf78-4491-e15c-3e319a10a511"
      },
      "execution_count": null,
      "outputs": [
        {
          "output_type": "stream",
          "name": "stdout",
          "text": [
            "<class 'pandas.core.frame.DataFrame'>\n",
            "Index: 12298 entries, 0 to 12614\n",
            "Data columns (total 15 columns):\n",
            " #   Column        Non-Null Count  Dtype  \n",
            "---  ------        --------------  -----  \n",
            " 0   product_name  12298 non-null  object \n",
            " 1   website       12298 non-null  object \n",
            " 2   country       12298 non-null  object \n",
            " 3   category      12298 non-null  object \n",
            " 4   subcategory   12298 non-null  object \n",
            " 5   title-href    12298 non-null  object \n",
            " 6   price         12298 non-null  float64\n",
            " 7   brand         12298 non-null  object \n",
            " 8   ingredients   6594 non-null   object \n",
            " 9   form          12298 non-null  object \n",
            " 10  type          9660 non-null   object \n",
            " 11  color         10330 non-null  object \n",
            " 12  size          9230 non-null   object \n",
            " 13  rating        10394 non-null  object \n",
            " 14  noofratings   11871 non-null  object \n",
            "dtypes: float64(1), object(14)\n",
            "memory usage: 1.5+ MB\n"
          ]
        }
      ]
    },
    {
      "cell_type": "markdown",
      "source": [
        "4. In order to check for correlation we changed \"noofrating\" column type from object to float64:"
      ],
      "metadata": {
        "id": "xRuYljXk1H8D"
      }
    },
    {
      "cell_type": "code",
      "source": [
        "df['noofratings'] = df['noofratings'].str.replace(r',', '') #take out \",\" if number of ratings is writen as \"#,###\"\n",
        "df['noofratings'] = pd.to_numeric(df['noofratings'], errors='coerce')#change column to numeric\n",
        "df['noofratings'] = df['noofratings'].fillna(0) #replace Nan values with 0\n",
        "\n",
        "df['noofratings'] = df['noofratings'].astype(float)\n",
        "df['noofratings'].info()\n"
      ],
      "metadata": {
        "id": "f45MhRqr1Uqg",
        "colab": {
          "base_uri": "https://localhost:8080/"
        },
        "outputId": "2769237e-e854-424b-d89f-37462525373e"
      },
      "execution_count": null,
      "outputs": [
        {
          "output_type": "stream",
          "name": "stdout",
          "text": [
            "<class 'pandas.core.series.Series'>\n",
            "Index: 12298 entries, 0 to 12614\n",
            "Series name: noofratings\n",
            "Non-Null Count  Dtype  \n",
            "--------------  -----  \n",
            "12298 non-null  float64\n",
            "dtypes: float64(1)\n",
            "memory usage: 192.2 KB\n"
          ]
        }
      ]
    },
    {
      "cell_type": "markdown",
      "source": [
        "**2-3 descriptive graphs (histograms etc.)**"
      ],
      "metadata": {
        "id": "Zs_fexuAbpTP"
      }
    },
    {
      "cell_type": "code",
      "source": [
        "#descriptive statistics of main varibles:\n",
        "print(df[['price', 'noofratings']].describe().round(2))"
      ],
      "metadata": {
        "colab": {
          "base_uri": "https://localhost:8080/"
        },
        "id": "aMbkkSf0KU5t",
        "outputId": "e34732b8-3987-4bb8-d4bf-ee0c5579c991"
      },
      "execution_count": null,
      "outputs": [
        {
          "output_type": "stream",
          "name": "stdout",
          "text": [
            "          price  noofratings\n",
            "count  12298.00     12298.00\n",
            "mean    2281.18       943.74\n",
            "std     3158.69      6516.32\n",
            "min        1.70         0.00\n",
            "25%      499.00         5.00\n",
            "50%     1307.20        24.00\n",
            "75%     2859.50       246.00\n",
            "max    94099.00    220040.00\n"
          ]
        }
      ]
    },
    {
      "cell_type": "code",
      "source": [
        "# Plot a histogram for the 'price' column\n",
        "plt.figure(figsize=(10, 6))\n",
        "plt.hist(df['price'], bins=30, edgecolor='black', alpha=0.7)\n",
        "plt.title('Histogram of Product Prices')\n",
        "plt.xlabel('Price')\n",
        "plt.ylabel('Frequency')\n",
        "plt.grid(axis='y', alpha=0.75)\n",
        "plt.xlim(0, 20000) # here we limit the x axis size\n",
        "plt.show()\n",
        "\n",
        "\n",
        "#We can see here that most obs are lower priced products."
      ],
      "metadata": {
        "id": "FAGALTaNU_Ak",
        "colab": {
          "base_uri": "https://localhost:8080/",
          "height": 564
        },
        "outputId": "f8cd4f84-0127-4ca3-875d-415c6772710f"
      },
      "execution_count": null,
      "outputs": [
        {
          "output_type": "display_data",
          "data": {
            "text/plain": [
              "<Figure size 1000x600 with 1 Axes>"
            ],
            "image/png": "[encoded data removed]"
          },
          "metadata": {}
        }
      ]
    },
    {
      "cell_type": "code",
      "source": [
        "# Plot a histogram for the 'noofratings' column\n",
        "plt.figure(figsize=(10, 6))\n",
        "plt.hist(df['noofratings'], bins=30, edgecolor='black', alpha=0.7)\n",
        "plt.title('Histogram of noofratings')\n",
        "plt.xlabel('Number of ratings')\n",
        "plt.ylabel('Frequency')\n",
        "plt.grid(axis='y', alpha=0.75)\n",
        "plt.xlim(0, 30000)   # here we limit the x axis size\n",
        "plt.show\n",
        "\n",
        "\n",
        "#We can see here that most obs have low number of ratings."
      ],
      "metadata": {
        "colab": {
          "base_uri": "https://localhost:8080/",
          "height": 734
        },
        "id": "1iH6fy11WMjl",
        "outputId": "88e52bde-1509-4bb6-a164-61dd050430bf"
      },
      "execution_count": null,
      "outputs": [
        {
          "output_type": "execute_result",
          "data": {
            "text/plain": [
              "<function matplotlib.pyplot.show(close=None, block=None)>"
            ],
            "text/html": [
              "<div style=\"max-width:800px; border: 1px solid var(--colab-border-color);\"><style>\n",
              "      pre.function-repr-contents {\n",
              "        overflow-x: auto;\n",
              "        padding: 8px 12px;\n",
              "        max-height: 500px;\n",
              "      }\n",
              "\n",
              "      pre.function-repr-contents.function-repr-contents-collapsed {\n",
              "        cursor: pointer;\n",
              "        max-height: 100px;\n",
              "      }\n",
              "    </style>\n",
              "    <pre style=\"white-space: initial; background:\n",
              "         var(--colab-secondary-surface-color); padding: 8px 12px;\n",
              "         border-bottom: 1px solid var(--colab-border-color);\"><b>matplotlib.pyplot.show</b><br/>def show(*args, **kwargs)</pre><pre class=\"function-repr-contents function-repr-contents-collapsed\" style=\"\"><a class=\"filepath\" style=\"display:none\" href=\"#\">/usr/local/lib/python3.10/dist-packages/matplotlib/pyplot.py</a>Display all open figures.\n",
              "\n",
              "Parameters\n",
              "----------\n",
              "block : bool, optional\n",
              "    Whether to wait for all figures to be closed before returning.\n",
              "\n",
              "    If `True` block and run the GUI main loop until all figure windows\n",
              "    are closed.\n",
              "\n",
              "    If `False` ensure that all figure windows are displayed and return\n",
              "    immediately.  In this case, you are responsible for ensuring\n",
              "    that the event loop is running to have responsive figures.\n",
              "\n",
              "    Defaults to True in non-interactive mode and to False in interactive\n",
              "    mode (see `.pyplot.isinteractive`).\n",
              "\n",
              "See Also\n",
              "--------\n",
              "ion : Enable interactive mode, which shows / updates the figure after\n",
              "      every plotting command, so that calling ``show()`` is not necessary.\n",
              "ioff : Disable interactive mode.\n",
              "savefig : Save the figure to an image file instead of showing it on screen.\n",
              "\n",
              "Notes\n",
              "-----\n",
              "**Saving figures to file and showing a window at the same time**\n",
              "\n",
              "If you want an image file as well as a user interface window, use\n",
              "`.pyplot.savefig` before `.pyplot.show`. At the end of (a blocking)\n",
              "``show()`` the figure is closed and thus unregistered from pyplot. Calling\n",
              "`.pyplot.savefig` afterwards would save a new and thus empty figure. This\n",
              "limitation of command order does not apply if the show is non-blocking or\n",
              "if you keep a reference to the figure and use `.Figure.savefig`.\n",
              "\n",
              "**Auto-show in jupyter notebooks**\n",
              "\n",
              "The jupyter backends (activated via ``%matplotlib inline``,\n",
              "``%matplotlib notebook``, or ``%matplotlib widget``), call ``show()`` at\n",
              "the end of every cell by default. Thus, you usually don&#x27;t have to call it\n",
              "explicitly there.</pre>\n",
              "      <script>\n",
              "      if (google.colab.kernel.accessAllowed && google.colab.files && google.colab.files.view) {\n",
              "        for (const element of document.querySelectorAll('.filepath')) {\n",
              "          element.style.display = 'block'\n",
              "          element.onclick = (event) => {\n",
              "            event.preventDefault();\n",
              "            event.stopPropagation();\n",
              "            google.colab.files.view(element.textContent, 401);\n",
              "          };\n",
              "        }\n",
              "      }\n",
              "      for (const element of document.querySelectorAll('.function-repr-contents')) {\n",
              "        element.onclick = (event) => {\n",
              "          event.preventDefault();\n",
              "          event.stopPropagation();\n",
              "          element.classList.toggle('function-repr-contents-collapsed');\n",
              "        };\n",
              "      }\n",
              "      </script>\n",
              "      </div>"
            ]
          },
          "metadata": {},
          "execution_count": 10
        },
        {
          "output_type": "display_data",
          "data": {
            "text/plain": [
              "<Figure size 1000x600 with 1 Axes>"
            ],
            "image/png": "[encoded data removed]"
          },
          "metadata": {}
        }
      ]
    },
    {
      "cell_type": "code",
      "source": [
        "df2=df.groupby('price')['noofratings'].mean()\n",
        "df2.head()"
      ],
      "metadata": {
        "colab": {
          "base_uri": "https://localhost:8080/"
        },
        "id": "kqSQbRPoTUpe",
        "outputId": "f1467877-ed06-4f26-9e72-fcbcc4763e2b"
      },
      "execution_count": null,
      "outputs": [
        {
          "output_type": "execute_result",
          "data": {
            "text/plain": [
              "price\n",
              "1.70       0.0\n",
              "3.50     152.0\n",
              "6.97       1.0\n",
              "15.98      0.0\n",
              "17.00      0.0\n",
              "Name: noofratings, dtype: float64"
            ]
          },
          "metadata": {},
          "execution_count": 11
        }
      ]
    },
    {
      "cell_type": "markdown",
      "source": [
        "**finding outliers**\n"
      ],
      "metadata": {
        "id": "I2jtwRG7kaLn"
      }
    },
    {
      "cell_type": "markdown",
      "source": [
        "1. boxplot for columns of interest"
      ],
      "metadata": {
        "id": "Qa2ay2gpBodZ"
      }
    },
    {
      "cell_type": "code",
      "source": [
        "import matplotlib.pyplot as plt\n",
        "plt.rcParams[\"figure.figsize\"] = [10, 6]\n",
        "plt.rcParams[\"figure.autolayout\"] = True\n",
        "\n",
        "# Pandas dataframe\n",
        "data_price = pd.DataFrame( df['price'])\n",
        "data_noofratings = pd.DataFrame( df['noofratings'])\n",
        "# Plot the dataframe\n",
        "ax = data_price[['price']].plot(kind='box', title='boxplot')\n",
        "\n",
        "# Display the plot\n",
        "plt.show()\n",
        "\n",
        "#There are 6 instances above 40,000 we should examin. #Outliers can be remove."
      ],
      "metadata": {
        "colab": {
          "base_uri": "https://localhost:8080/",
          "height": 607
        },
        "id": "fj86OOE8vgaJ",
        "outputId": "3da13bc7-c464-411d-efd5-94e91bc54eb8"
      },
      "execution_count": null,
      "outputs": [
        {
          "output_type": "display_data",
          "data": {
            "text/plain": [
              "<Figure size 1000x600 with 1 Axes>"
            ],
            "image/png": "[encoded data removed]"
          },
          "metadata": {}
        }
      ]
    },
    {
      "cell_type": "code",
      "source": [
        "ax = data_noofratings[['noofratings']].plot(kind='box', title='boxplot')\n",
        "\n",
        "# Display the plot\n",
        "plt.show()\n",
        "# There are several instances above 5,000 we should examin."
      ],
      "metadata": {
        "colab": {
          "base_uri": "https://localhost:8080/",
          "height": 607
        },
        "id": "dhV3FBrlhrmv",
        "outputId": "63aac089-9d3a-423a-8f07-8a0578ecb6a6"
      },
      "execution_count": null,
      "outputs": [
        {
          "output_type": "display_data",
          "data": {
            "text/plain": [
              "<Figure size 1000x600 with 1 Axes>"
            ],
            "image/png": "[encoded data removed]"
          },
          "metadata": {}
        }
      ]
    },
    {
      "cell_type": "markdown",
      "source": [
        "2.compare the mean to the outliars and ask a business expert if the difference makes sense.\n",
        "<br>\n",
        "**as business experts we identify that in rows 3536 and 8420 the price is a mistake and should be deleted, however, in rows  892, 893, 11156 prices are true, and though are verry high, are important part of the data, so we cannot delete outliars automatically**"
      ],
      "metadata": {
        "id": "30mvDjLEBwvs"
      }
    },
    {
      "cell_type": "code",
      "source": [
        "print(df['price'].mean())\n",
        "df[df['price'] > 40000]\n",
        "\n"
      ],
      "metadata": {
        "colab": {
          "base_uri": "https://localhost:8080/",
          "height": 360
        },
        "id": "uVwGEjLQi1GS",
        "outputId": "ccf24b6f-6ca3-42ec-ec6c-8e6bb13504de"
      },
      "execution_count": null,
      "outputs": [
        {
          "output_type": "stream",
          "name": "stdout",
          "text": [
            "2281.1809351114002\n"
          ]
        },
        {
          "output_type": "execute_result",
          "data": {
            "text/plain": [
              "                                            product_name   website country  \\\n",
              "892               Clive Christian X Perfume Spray 30/1oz  Flipkart   India   \n",
              "893            Clive Christian X Perfume Spray 100/3.4oz  Flipkart   India   \n",
              "3536   Revlon ColorStay Eyeliner Pencil, Black [201],...    Amazon   India   \n",
              "5123   Mamaearth Anti Dandruff Tea Tree Hair Mask wit...    Amazon   India   \n",
              "8420                    Laneige Lip Glowy Balm_Berry 10g    Amazon   India   \n",
              "11156  La Prairie Skin Caviar Concealer Foundation SP...    Amazon   India   \n",
              "\n",
              "      category subcategory                                         title-href  \\\n",
              "892       body     perfume  https://www.amazon.in/Clive-Christian-Perfume-...   \n",
              "893       body     perfume  https://www.amazon.in/Clive-Christian-Perfume-...   \n",
              "3536      eyes    eyeliner  https://www.amazon.in/Revlon-ColorStay-Eyeline...   \n",
              "5123      hair    hairmask  https://www.amazon.in/Mamaearth-Dandruff-Danrd...   \n",
              "8420      lips     lipbalm  https://www.amazon.in/sspa/click?ie=UTF8&spc=M...   \n",
              "11156     face  foundation  https://www.amazon.in/Prairie-Caviar-Concealer...   \n",
              "\n",
              "          price            brand ingredients    form    type  \\\n",
              "892    61400.00  Clive Christian         NaN  liquid     NaN   \n",
              "893    94099.00  Clive Christian         NaN  liquid     NaN   \n",
              "3536   57289.29           REVLON         NaN  liquid     NaN   \n",
              "5123   55999.00        Mamaearth         NaN   cream  normal   \n",
              "8420   69000.00          LANEIGE         NaN   stick  normal   \n",
              "11156  87666.00       La Prairie         NaN  liquid    Full   \n",
              "\n",
              "                                                   color  size rating  \\\n",
              "892    A sexy, modern, luxury fragrance in a handmade...    30    4.3   \n",
              "893                        X ' Perfume Spray - 100/3.4oz   100    4.4   \n",
              "3536                                                 NaN   NaN    4.7   \n",
              "5123                                            No color   200    NaN   \n",
              "8420                                                 NaN  10 s    4.4   \n",
              "11156                                    Crï¿½ï¿½ï¿½ï¿½ï   NaN   4.20   \n",
              "\n",
              "       noofratings  \n",
              "892          126.0  \n",
              "893         1186.0  \n",
              "3536           4.0  \n",
              "5123           0.0  \n",
              "8420         418.0  \n",
              "11156          0.0  "
            ],
            "text/html": [
              "\n",
              "  <div id=\"df-9a112b0b-fd00-4c81-807b-5ca62a8924c6\" class=\"colab-df-container\">\n",
              "    <div>\n",
              "<style scoped>\n",
              "    .dataframe tbody tr th:only-of-type {\n",
              "        vertical-align: middle;\n",
              "    }\n",
              "\n",
              "    .dataframe tbody tr th {\n",
              "        vertical-align: top;\n",
              "    }\n",
              "\n",
              "    .dataframe thead th {\n",
              "        text-align: right;\n",
              "    }\n",
              "</style>\n",
              "<table border=\"1\" class=\"dataframe\">\n",
              "  <thead>\n",
              "    <tr style=\"text-align: right;\">\n",
              "      <th></th>\n",
              "      <th>product_name</th>\n",
              "      <th>website</th>\n",
              "      <th>country</th>\n",
              "      <th>category</th>\n",
              "      <th>subcategory</th>\n",
              "      <th>title-href</th>\n",
              "      <th>price</th>\n",
              "      <th>brand</th>\n",
              "      <th>ingredients</th>\n",
              "      <th>form</th>\n",
              "      <th>type</th>\n",
              "      <th>color</th>\n",
              "      <th>size</th>\n",
              "      <th>rating</th>\n",
              "      <th>noofratings</th>\n",
              "    </tr>\n",
              "  </thead>\n",
              "  <tbody>\n",
              "    <tr>\n",
              "      <th>892</th>\n",
              "      <td>Clive Christian X Perfume Spray 30/1oz</td>\n",
              "      <td>Flipkart</td>\n",
              "      <td>India</td>\n",
              "      <td>body</td>\n",
              "      <td>perfume</td>\n",
              "      <td>https://www.amazon.in/Clive-Christian-Perfume-...</td>\n",
              "      <td>61400.00</td>\n",
              "      <td>Clive Christian</td>\n",
              "      <td>NaN</td>\n",
              "      <td>liquid</td>\n",
              "      <td>NaN</td>\n",
              "      <td>A sexy, modern, luxury fragrance in a handmade...</td>\n",
              "      <td>30</td>\n",
              "      <td>4.3</td>\n",
              "      <td>126.0</td>\n",
              "    </tr>\n",
              "    <tr>\n",
              "      <th>893</th>\n",
              "      <td>Clive Christian X Perfume Spray 100/3.4oz</td>\n",
              "      <td>Flipkart</td>\n",
              "      <td>India</td>\n",
              "      <td>body</td>\n",
              "      <td>perfume</td>\n",
              "      <td>https://www.amazon.in/Clive-Christian-Perfume-...</td>\n",
              "      <td>94099.00</td>\n",
              "      <td>Clive Christian</td>\n",
              "      <td>NaN</td>\n",
              "      <td>liquid</td>\n",
              "      <td>NaN</td>\n",
              "      <td>X ' Perfume Spray - 100/3.4oz</td>\n",
              "      <td>100</td>\n",
              "      <td>4.4</td>\n",
              "      <td>1186.0</td>\n",
              "    </tr>\n",
              "    <tr>\n",
              "      <th>3536</th>\n",
              "      <td>Revlon ColorStay Eyeliner Pencil, Black [201],...</td>\n",
              "      <td>Amazon</td>\n",
              "      <td>India</td>\n",
              "      <td>eyes</td>\n",
              "      <td>eyeliner</td>\n",
              "      <td>https://www.amazon.in/Revlon-ColorStay-Eyeline...</td>\n",
              "      <td>57289.29</td>\n",
              "      <td>REVLON</td>\n",
              "      <td>NaN</td>\n",
              "      <td>liquid</td>\n",
              "      <td>NaN</td>\n",
              "      <td>NaN</td>\n",
              "      <td>NaN</td>\n",
              "      <td>4.7</td>\n",
              "      <td>4.0</td>\n",
              "    </tr>\n",
              "    <tr>\n",
              "      <th>5123</th>\n",
              "      <td>Mamaearth Anti Dandruff Tea Tree Hair Mask wit...</td>\n",
              "      <td>Amazon</td>\n",
              "      <td>India</td>\n",
              "      <td>hair</td>\n",
              "      <td>hairmask</td>\n",
              "      <td>https://www.amazon.in/Mamaearth-Dandruff-Danrd...</td>\n",
              "      <td>55999.00</td>\n",
              "      <td>Mamaearth</td>\n",
              "      <td>NaN</td>\n",
              "      <td>cream</td>\n",
              "      <td>normal</td>\n",
              "      <td>No color</td>\n",
              "      <td>200</td>\n",
              "      <td>NaN</td>\n",
              "      <td>0.0</td>\n",
              "    </tr>\n",
              "    <tr>\n",
              "      <th>8420</th>\n",
              "      <td>Laneige Lip Glowy Balm_Berry 10g</td>\n",
              "      <td>Amazon</td>\n",
              "      <td>India</td>\n",
              "      <td>lips</td>\n",
              "      <td>lipbalm</td>\n",
              "      <td>https://www.amazon.in/sspa/click?ie=UTF8&amp;spc=M...</td>\n",
              "      <td>69000.00</td>\n",
              "      <td>LANEIGE</td>\n",
              "      <td>NaN</td>\n",
              "      <td>stick</td>\n",
              "      <td>normal</td>\n",
              "      <td>NaN</td>\n",
              "      <td>10 s</td>\n",
              "      <td>4.4</td>\n",
              "      <td>418.0</td>\n",
              "    </tr>\n",
              "    <tr>\n",
              "      <th>11156</th>\n",
              "      <td>La Prairie Skin Caviar Concealer Foundation SP...</td>\n",
              "      <td>Amazon</td>\n",
              "      <td>India</td>\n",
              "      <td>face</td>\n",
              "      <td>foundation</td>\n",
              "      <td>https://www.amazon.in/Prairie-Caviar-Concealer...</td>\n",
              "      <td>87666.00</td>\n",
              "      <td>La Prairie</td>\n",
              "      <td>NaN</td>\n",
              "      <td>liquid</td>\n",
              "      <td>Full</td>\n",
              "      <td>Crï¿½ï¿½ï¿½ï¿½ï</td>\n",
              "      <td>NaN</td>\n",
              "      <td>4.20</td>\n",
              "      <td>0.0</td>\n",
              "    </tr>\n",
              "  </tbody>\n",
              "</table>\n",
              "</div>\n",
              "    <div class=\"colab-df-buttons\">\n",
              "\n",
              "  <div class=\"colab-df-container\">\n",
              "    <button class=\"colab-df-convert\" onclick=\"convertToInteractive('df-9a112b0b-fd00-4c81-807b-5ca62a8924c6')\"\n",
              "            title=\"Convert this dataframe to an interactive table.\"\n",
              "            style=\"display:none;\">\n",
              "\n",
              "  <svg xmlns=\"http://www.w3.org/2000/svg\" height=\"24px\" viewBox=\"0 -960 960 960\">\n",
              "    <path d=\"M120-120v-720h720v720H120Zm60-500h600v-160H180v160Zm220 220h160v-160H400v160Zm0 220h160v-160H400v160ZM180-400h160v-160H180v160Zm440 0h160v-160H620v160ZM180-180h160v-160H180v160Zm440 0h160v-160H620v160Z\"/>\n",
              "  </svg>\n",
              "    </button>\n",
              "\n",
              "  <style>\n",
              "    .colab-df-container {\n",
              "      display:flex;\n",
              "      gap: 12px;\n",
              "    }\n",
              "\n",
              "    .colab-df-convert {\n",
              "      background-color: #E8F0FE;\n",
              "      border: none;\n",
              "      border-radius: 50%;\n",
              "      cursor: pointer;\n",
              "      display: none;\n",
              "      fill: #1967D2;\n",
              "      height: 32px;\n",
              "      padding: 0 0 0 0;\n",
              "      width: 32px;\n",
              "    }\n",
              "\n",
              "    .colab-df-convert:hover {\n",
              "      background-color: #E2EBFA;\n",
              "      box-shadow: 0px 1px 2px rgba(60, 64, 67, 0.3), 0px 1px 3px 1px rgba(60, 64, 67, 0.15);\n",
              "      fill: #174EA6;\n",
              "    }\n",
              "\n",
              "    .colab-df-buttons div {\n",
              "      margin-bottom: 4px;\n",
              "    }\n",
              "\n",
              "    [theme=dark] .colab-df-convert {\n",
              "      background-color: #3B4455;\n",
              "      fill: #D2E3FC;\n",
              "    }\n",
              "\n",
              "    [theme=dark] .colab-df-convert:hover {\n",
              "      background-color: #434B5C;\n",
              "      box-shadow: 0px 1px 3px 1px rgba(0, 0, 0, 0.15);\n",
              "      filter: drop-shadow(0px 1px 2px rgba(0, 0, 0, 0.3));\n",
              "      fill: #FFFFFF;\n",
              "    }\n",
              "  </style>\n",
              "\n",
              "    <script>\n",
              "      const buttonEl =\n",
              "        document.querySelector('#df-9a112b0b-fd00-4c81-807b-5ca62a8924c6 button.colab-df-convert');\n",
              "      buttonEl.style.display =\n",
              "        google.colab.kernel.accessAllowed ? 'block' : 'none';\n",
              "\n",
              "      async function convertToInteractive(key) {\n",
              "        const element = document.querySelector('#df-9a112b0b-fd00-4c81-807b-5ca62a8924c6');\n",
              "        const dataTable =\n",
              "          await google.colab.kernel.invokeFunction('convertToInteractive',\n",
              "                                                    [key], {});\n",
              "        if (!dataTable) return;\n",
              "\n",
              "        const docLinkHtml = 'Like what you see? Visit the ' +\n",
              "          '<a target=\"_blank\" href=https://colab.research.google.com/notebooks/data_table.ipynb>data table notebook</a>'\n",
              "          + ' to learn more about interactive tables.';\n",
              "        element.innerHTML = '';\n",
              "        dataTable['output_type'] = 'display_data';\n",
              "        await google.colab.output.renderOutput(dataTable, element);\n",
              "        const docLink = document.createElement('div');\n",
              "        docLink.innerHTML = docLinkHtml;\n",
              "        element.appendChild(docLink);\n",
              "      }\n",
              "    </script>\n",
              "  </div>\n",
              "\n",
              "\n",
              "<div id=\"df-e02fbc95-ccfc-48c2-a265-4bf945a175a9\">\n",
              "  <button class=\"colab-df-quickchart\" onclick=\"quickchart('df-e02fbc95-ccfc-48c2-a265-4bf945a175a9')\"\n",
              "            title=\"Suggest charts\"\n",
              "            style=\"display:none;\">\n",
              "\n",
              "<svg xmlns=\"http://www.w3.org/2000/svg\" height=\"24px\"viewBox=\"0 0 24 24\"\n",
              "     width=\"24px\">\n",
              "    <g>\n",
              "        <path d=\"M19 3H5c-1.1 0-2 .9-2 2v14c0 1.1.9 2 2 2h14c1.1 0 2-.9 2-2V5c0-1.1-.9-2-2-2zM9 17H7v-7h2v7zm4 0h-2V7h2v10zm4 0h-2v-4h2v4z\"/>\n",
              "    </g>\n",
              "</svg>\n",
              "  </button>\n",
              "\n",
              "<style>\n",
              "  .colab-df-quickchart {\n",
              "      --bg-color: #E8F0FE;\n",
              "      --fill-color: #1967D2;\n",
              "      --hover-bg-color: #E2EBFA;\n",
              "      --hover-fill-color: #174EA6;\n",
              "      --disabled-fill-color: #AAA;\n",
              "      --disabled-bg-color: #DDD;\n",
              "  }\n",
              "\n",
              "  [theme=dark] .colab-df-quickchart {\n",
              "      --bg-color: #3B4455;\n",
              "      --fill-color: #D2E3FC;\n",
              "      --hover-bg-color: #434B5C;\n",
              "      --hover-fill-color: #FFFFFF;\n",
              "      --disabled-bg-color: #3B4455;\n",
              "      --disabled-fill-color: #666;\n",
              "  }\n",
              "\n",
              "  .colab-df-quickchart {\n",
              "    background-color: var(--bg-color);\n",
              "    border: none;\n",
              "    border-radius: 50%;\n",
              "    cursor: pointer;\n",
              "    display: none;\n",
              "    fill: var(--fill-color);\n",
              "    height: 32px;\n",
              "    padding: 0;\n",
              "    width: 32px;\n",
              "  }\n",
              "\n",
              "  .colab-df-quickchart:hover {\n",
              "    background-color: var(--hover-bg-color);\n",
              "    box-shadow: 0 1px 2px rgba(60, 64, 67, 0.3), 0 1px 3px 1px rgba(60, 64, 67, 0.15);\n",
              "    fill: var(--button-hover-fill-color);\n",
              "  }\n",
              "\n",
              "  .colab-df-quickchart-complete:disabled,\n",
              "  .colab-df-quickchart-complete:disabled:hover {\n",
              "    background-color: var(--disabled-bg-color);\n",
              "    fill: var(--disabled-fill-color);\n",
              "    box-shadow: none;\n",
              "  }\n",
              "\n",
              "  .colab-df-spinner {\n",
              "    border: 2px solid var(--fill-color);\n",
              "    border-color: transparent;\n",
              "    border-bottom-color: var(--fill-color);\n",
              "    animation:\n",
              "      spin 1s steps(1) infinite;\n",
              "  }\n",
              "\n",
              "  @keyframes spin {\n",
              "    0% {\n",
              "      border-color: transparent;\n",
              "      border-bottom-color: var(--fill-color);\n",
              "      border-left-color: var(--fill-color);\n",
              "    }\n",
              "    20% {\n",
              "      border-color: transparent;\n",
              "      border-left-color: var(--fill-color);\n",
              "      border-top-color: var(--fill-color);\n",
              "    }\n",
              "    30% {\n",
              "      border-color: transparent;\n",
              "      border-left-color: var(--fill-color);\n",
              "      border-top-color: var(--fill-color);\n",
              "      border-right-color: var(--fill-color);\n",
              "    }\n",
              "    40% {\n",
              "      border-color: transparent;\n",
              "      border-right-color: var(--fill-color);\n",
              "      border-top-color: var(--fill-color);\n",
              "    }\n",
              "    60% {\n",
              "      border-color: transparent;\n",
              "      border-right-color: var(--fill-color);\n",
              "    }\n",
              "    80% {\n",
              "      border-color: transparent;\n",
              "      border-right-color: var(--fill-color);\n",
              "      border-bottom-color: var(--fill-color);\n",
              "    }\n",
              "    90% {\n",
              "      border-color: transparent;\n",
              "      border-bottom-color: var(--fill-color);\n",
              "    }\n",
              "  }\n",
              "</style>\n",
              "\n",
              "  <script>\n",
              "    async function quickchart(key) {\n",
              "      const quickchartButtonEl =\n",
              "        document.querySelector('#' + key + ' button');\n",
              "      quickchartButtonEl.disabled = true;  // To prevent multiple clicks.\n",
              "      quickchartButtonEl.classList.add('colab-df-spinner');\n",
              "      try {\n",
              "        const charts = await google.colab.kernel.invokeFunction(\n",
              "            'suggestCharts', [key], {});\n",
              "      } catch (error) {\n",
              "        console.error('Error during call to suggestCharts:', error);\n",
              "      }\n",
              "      quickchartButtonEl.classList.remove('colab-df-spinner');\n",
              "      quickchartButtonEl.classList.add('colab-df-quickchart-complete');\n",
              "    }\n",
              "    (() => {\n",
              "      let quickchartButtonEl =\n",
              "        document.querySelector('#df-e02fbc95-ccfc-48c2-a265-4bf945a175a9 button');\n",
              "      quickchartButtonEl.style.display =\n",
              "        google.colab.kernel.accessAllowed ? 'block' : 'none';\n",
              "    })();\n",
              "  </script>\n",
              "</div>\n",
              "\n",
              "    </div>\n",
              "  </div>\n"
            ],
            "application/vnd.google.colaboratory.intrinsic+json": {
              "type": "dataframe",
              "repr_error": "0"
            }
          },
          "metadata": {},
          "execution_count": 14
        }
      ]
    },
    {
      "cell_type": "markdown",
      "source": [
        "**Number of ratings tendency in the data:** <br>\n",
        "\n",
        " 1. Number of ratings over category and subcategory"
      ],
      "metadata": {
        "id": "JZl382LKcCQI"
      }
    },
    {
      "cell_type": "code",
      "source": [
        "import matplotlib.pyplot as plt\n",
        "%matplotlib inline\n",
        "\n",
        "Category = df.groupby(['category', 'subcategory'])['noofratings'].mean()\n",
        "print(Category)\n",
        "df_bar = df[['category', 'subcategory', 'noofratings']]\n",
        "df_pivot = pd.pivot_table(\n",
        "     df_bar,\n",
        "     values='noofratings',\n",
        "     index='category',\n",
        "     columns='subcategory',\n",
        "     aggfunc=np.mean\n",
        ")\n",
        "ax = df_pivot.plot(kind=\"bar\", legend=False, figsize=(10, 6))\n",
        "ax.set_ylabel(\"noofratings\")\n",
        "plt.show()               #Highest number of ratings are for body and face (specifically for soap and eye treatment)."
      ],
      "metadata": {
        "id": "hF_B8TW2EtV-",
        "colab": {
          "base_uri": "https://localhost:8080/",
          "height": 1000
        },
        "outputId": "3eee6907-a50d-4e9d-8f62-61d6efd8b954"
      },
      "execution_count": null,
      "outputs": [
        {
          "output_type": "stream",
          "name": "stdout",
          "text": [
            "category  subcategory  \n",
            "body      bodywash          130.818030\n",
            "          moisturizer        71.000000\n",
            "          perfume          2001.684211\n",
            "          soap             4949.226545\n",
            "          sunscreen         252.466667\n",
            "eyes      eye primer        677.785714\n",
            "          eyebrow           329.037915\n",
            "          eyelashes         165.500000\n",
            "          eyeliner         1067.309339\n",
            "          eyeshadow         234.522779\n",
            "          mascara           323.135703\n",
            "          primer           1445.140741\n",
            "          serum             315.875000\n",
            "face      blush              41.041667\n",
            "          concealer          58.890653\n",
            "          eye treatment    4528.200000\n",
            "          face oil           26.187500\n",
            "          foundation        602.497561\n",
            "          highlighter        37.444444\n",
            "          powder           1145.511628\n",
            "          primer             52.230769\n",
            "hair      conditioner        26.405405\n",
            "          dry shampoo       948.704545\n",
            "          hairmask            0.000000\n",
            "          hairstyling        38.033333\n",
            "          oil                 0.000000\n",
            "          serum             364.549618\n",
            "          shampoo          1282.439130\n",
            "lips      lipbalm          1344.745020\n",
            "          lipgloss          570.057026\n",
            "          lipliner          831.792887\n",
            "          lipstain           45.373333\n",
            "          lipstick         1080.346108\n",
            "skincare  cleanser          351.601423\n",
            "          eye treatment     264.863014\n",
            "          face wash         870.029240\n",
            "          mask              244.354651\n",
            "          moisturizer       445.688119\n",
            "          serum            1631.311275\n",
            "          spray             577.300000\n",
            "          toner             193.992188\n",
            "Name: noofratings, dtype: float64\n"
          ]
        },
        {
          "output_type": "stream",
          "name": "stderr",
          "text": [
            "<ipython-input-15-c392fbd34347>:7: FutureWarning: The provided callable <function mean at 0x7f7ab2d5fd00> is currently using DataFrameGroupBy.mean. In a future version of pandas, the provided callable will be used directly. To keep current behavior pass the string \"mean\" instead.\n",
            "  df_pivot = pd.pivot_table(\n"
          ]
        },
        {
          "output_type": "display_data",
          "data": {
            "text/plain": [
              "<Figure size 1000x600 with 1 Axes>"
            ],
            "image/png": "[encoded data removed]"
          },
          "metadata": {}
        }
      ]
    },
    {
      "cell_type": "markdown",
      "source": [
        "2. number of ratings over brand\n",
        "<br>\n",
        "*there are 1753 unique brands, we looked only at brands with over 50 different products"
      ],
      "metadata": {
        "id": "t44TNd8C5lah"
      }
    },
    {
      "cell_type": "code",
      "source": [
        "# print(len(df['brand'].unique())) #1753 unique brands\n",
        "df = df[['brand', 'noofratings']]\n",
        "brandlist_50 = df.brand.value_counts()[df.brand.value_counts()>50] #list of brands with over 50 different products\n",
        "# print(brandlist_50)\n",
        "df2 = df.groupby(['brand' ,'noofratings'], as_index=False).mean()#group brands by price mean but keep brands as column name\n",
        "#print(df2)\n",
        "df['brand'].map(df.groupby('brand')['noofratings'].mean())\n",
        "print(df)\n",
        "df3 = df2[df2['brand'].isin([brandlist_50])].sort_values(by=['noofratings'], ascending=False)#select only brands that have over 50 different products\n",
        "\n",
        "print(df3)\n",
        "#ax = df3.plot.bar(x='brand', y='noofratings')\n",
        "\n"
      ],
      "metadata": {
        "id": "CUcEZx-C5nUa",
        "colab": {
          "base_uri": "https://localhost:8080/"
        },
        "outputId": "3e8116d7-da42-4875-b316-b691bc216a0c"
      },
      "execution_count": null,
      "outputs": [
        {
          "output_type": "stream",
          "name": "stdout",
          "text": [
            "                 brand  noofratings\n",
            "0       Carlton London         19.0\n",
            "1             Charlene       4031.0\n",
            "2             Charlene       4072.0\n",
            "3               Denver         61.0\n",
            "4               Denver        342.0\n",
            "...                ...          ...\n",
            "12610    MAC Cosmetics         14.0\n",
            "12611    MAC Cosmetics         13.0\n",
            "12612  Klara Cosmetics         96.0\n",
            "12613         CLINIQUE         15.0\n",
            "12614           Lancme         16.0\n",
            "\n",
            "[12298 rows x 2 columns]\n",
            "Empty DataFrame\n",
            "Columns: [brand, noofratings]\n",
            "Index: []\n"
          ]
        }
      ]
    },
    {
      "cell_type": "code",
      "source": [
        "#TRY THIS\n",
        "\n",
        "# Print the number of unique brands\n",
        "print(len(df['brand'].unique()))  # Example output: 1753 unique brands\n",
        "\n",
        "# Select only the relevant columns\n",
        "df = df[['brand', 'noofratings']]\n",
        "\n",
        "# List of brands with over 50 occurrences\n",
        "brand_counts = df['brand'].value_counts()\n",
        "brandlist_50 = brand_counts[brand_counts > 50].index.tolist()  # List of brands with more than 50 occurrences\n",
        "\n",
        "# Group by brand and calculate the mean number of ratings\n",
        "df2 = df.groupby(['brand'], as_index=False).mean()\n",
        "\n",
        "# Select only brands that have over 50 occurrences\n",
        "df3 = df2[df2['brand'].isin(brandlist_50)].sort_values(by=['noofratings'], ascending=False)\n",
        "\n",
        "# Print the resulting DataFrame\n",
        "print(df3)\n",
        "\n",
        "# Plot a bar chart for the filtered brands\n",
        "ax = df3.plot.bar(x='brand', y='noofratings', figsize=(12, 8), edgecolor='black', alpha=0.7)\n",
        "plt.xlabel('Brand')\n",
        "plt.ylabel('Mean Number of Ratings')\n",
        "plt.title('Mean Number of Ratings by Brand (for brands with > 50 occurrences)')\n",
        "plt.xticks(rotation=90, ha='right', fontsize=10)\n",
        "plt.grid(axis='y', alpha=0.75)\n",
        "plt.show()    #Highest rank products: Maybelline, Lakmi and Swiss Beauty, REVLON and Clinique brands."
      ],
      "metadata": {
        "id": "WHjG2NKtswKF",
        "colab": {
          "base_uri": "https://localhost:8080/",
          "height": 1000
        },
        "outputId": "ebec716b-521a-4dda-e8e6-b3a1b514dffc"
      },
      "execution_count": null,
      "outputs": [
        {
          "output_type": "stream",
          "name": "stdout",
          "text": [
            "1710\n",
            "                        brand  noofratings\n",
            "988                Maybelline  5333.862745\n",
            "829                   LAKMï¿½  2213.548387\n",
            "1372             SWISS BEAUTY  1013.756757\n",
            "1270                   REVLON   832.957746\n",
            "309                  Clinique   705.598131\n",
            "1001                   Milani   611.633333\n",
            "270                 COVERGIRL   573.168142\n",
            "409                      Dior   359.692308\n",
            "576                   Generic   297.510638\n",
            "976             Mario Badescu   268.087500\n",
            "1183                 Pacifica   254.803030\n",
            "1031                  MyGlamm   234.493333\n",
            "1548   ULTA Beauty Collection   201.155172\n",
            "185         Benefit Cosmetics   169.790909\n",
            "74    Anastasia Beverly Hills   154.741497\n",
            "1532                Too Faced   134.893333\n",
            "583                  Givenchy   127.537634\n",
            "1063                      NYX   118.722222\n",
            "919                      MARS   111.212121\n",
            "1427                 Smashbox    86.487805\n",
            "823                  L.A GIRL    73.164179\n",
            "906             MAC Cosmetics    26.067797\n",
            "251                    CHANEL    26.030769\n",
            "860                    Lancme    21.823529\n",
            "261                  CLINIQUE    20.912281\n",
            "1400       Sephora Collection    20.690871\n",
            "1338                 SHISEIDO    20.526316\n",
            "632               HUDA BEAUTY    20.439252\n",
            "483              Estee Lauder    18.918033\n",
            "1164                     PIXI    15.898551\n",
            "570                  GUERLAIN    15.880000\n",
            "909          MAKE UP FOR EVER    15.724771\n",
            "1097                 Nudestix    15.637931\n",
            "1635                    Wiffy    14.430556\n",
            "384               Dear Dahlia    13.803922\n",
            "219               Bobbi Brown     8.120000\n",
            "739                   KAIASHA     0.026316\n"
          ]
        },
        {
          "output_type": "display_data",
          "data": {
            "text/plain": [
              "<Figure size 1200x800 with 1 Axes>"
            ],
            "image/png": "[encoded data removed]"
          },
          "metadata": {}
        }
      ]
    },
    {
      "cell_type": "markdown",
      "source": [
        "**Focuse on the distribution between number of ratings and price**"
      ],
      "metadata": {
        "id": "m8bkFVsvkmt6"
      }
    },
    {
      "cell_type": "code",
      "source": [
        "\n",
        "# Scatter plot for the tendency between price and number of ratings.\n",
        "plt.figure(figsize=(10, 6))\n",
        "plt.scatter(df['price'], df['noofratings'], alpha=0.5)\n",
        "plt.title('Price by Number of Ratings')\n",
        "plt.xlabel('Price')\n",
        "plt.ylabel('Number of Ratings')\n",
        "plt.grid(True)\n",
        "plt.show()\n"
      ],
      "metadata": {
        "id": "i2X7GsU9YDj_",
        "colab": {
          "base_uri": "https://localhost:8080/",
          "height": 607
        },
        "outputId": "9c782924-39ff-4c94-cd2e-53e3da9ecebf"
      },
      "execution_count": null,
      "outputs": [
        {
          "output_type": "display_data",
          "data": {
            "text/plain": [
              "<Figure size 1000x600 with 1 Axes>"
            ],
            "image/png": "[encoded data removed]"
          },
          "metadata": {}
        }
      ]
    },
    {
      "cell_type": "code",
      "source": [
        "from scipy.stats import pearsonr\n",
        "correlation, p_value = pearsonr(df['price'], df['noofratings'])\n",
        "\n",
        "correlation   #The Pearson correlation coefficient of -0.0439 indicates a very weak negative correlation between price and the number of ratings. As the price increases, the number of ratings for the product decreases,\n",
        "              #yet the effect is very small. This means that, on one hand, the findings align with past research and logic. Since the majority of consumers cannot afford to purchase high-priced products, they are more likely to rate lower-priced products.\n",
        "              #On the other hand, we did not explore the mean ratings of the products, so we do not know if the ratings are low, average, or high. This mainly suggests that other variables may explain the number of ratings."
      ],
      "metadata": {
        "id": "tZUTgm2yNLc0",
        "colab": {
          "base_uri": "https://localhost:8080/"
        },
        "outputId": "53fe5da6-1d25-4e86-c6bd-c883f251f7f8"
      },
      "execution_count": null,
      "outputs": [
        {
          "output_type": "execute_result",
          "data": {
            "text/plain": [
              "-0.04396141491554985"
            ]
          },
          "metadata": {},
          "execution_count": 32
        }
      ]
    },
    {
      "cell_type": "code",
      "source": [
        "p_value #The correlation is statistically significant since p=0.000"
      ],
      "metadata": {
        "id": "ha9bpLv3PIUu",
        "colab": {
          "base_uri": "https://localhost:8080/"
        },
        "outputId": "feeebef7-e52b-49e7-eac2-1a793b9c45b5"
      },
      "execution_count": null,
      "outputs": [
        {
          "output_type": "execute_result",
          "data": {
            "text/plain": [
              "1.0769915118713962e-06"
            ]
          },
          "metadata": {},
          "execution_count": 33
        }
      ]
    },
    {
      "cell_type": "code",
      "source": [],
      "metadata": {
        "id": "l_Y8iGQQ3BPo"
      },
      "execution_count": null,
      "outputs": []
    }
  ]
}